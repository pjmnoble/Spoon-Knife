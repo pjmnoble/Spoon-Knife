{
  "nbformat": 4,
  "nbformat_minor": 0,
  "metadata": {
    "colab": {
      "name": "Untitled1.ipynb",
      "provenance": [],
      "authorship_tag": "ABX9TyML8u6jRmaYHQ6JfsrxJt/M",
      "include_colab_link": true
    },
    "kernelspec": {
      "name": "python3",
      "display_name": "Python 3"
    },
    "language_info": {
      "name": "python"
    }
  },
  "cells": [
    {
      "cell_type": "markdown",
      "metadata": {
        "id": "view-in-github",
        "colab_type": "text"
      },
      "source": [
        "<a href=\"https://colab.research.google.com/github/pjmnoble/Spoon-Knife/blob/master/TextMining.ipynb\" target=\"_parent\"><img src=\"https://colab.research.google.com/assets/colab-badge.svg\" alt=\"Open In Colab\"/></a>"
      ]
    },
    {
      "cell_type": "markdown",
      "metadata": {
        "id": "MqLsvqug5kju"
      },
      "source": [
        "Setting up a notebook to do some basic text handling"
      ]
    },
    {
      "cell_type": "code",
      "metadata": {
        "colab": {
          "base_uri": "https://localhost:8080/"
        },
        "id": "b3w460PX6JC8",
        "outputId": "15a0b10d-ba17-4274-e187-e0c9eb077f09"
      },
      "source": [
        "pip install lorem"
      ],
      "execution_count": 5,
      "outputs": [
        {
          "output_type": "stream",
          "text": [
            "Collecting lorem\n",
            "  Downloading lorem-0.1.1-py3-none-any.whl (5.0 kB)\n",
            "Installing collected packages: lorem\n",
            "Successfully installed lorem-0.1.1\n"
          ],
          "name": "stdout"
        }
      ]
    },
    {
      "cell_type": "code",
      "metadata": {
        "id": "odzS9Qh95r72"
      },
      "source": [
        "import pandas as pd\n",
        "import lorem\n",
        "import random\n",
        "import datetime\n",
        "\n",
        "mpc_options = ['gastroenteric', 'respiratory', 'pruritus','tumour','kidney_disease','trauma','other_unwell','vaccination', 'post_op','other_healthy']\n"
      ],
      "execution_count": 11,
      "outputs": []
    },
    {
      "cell_type": "code",
      "metadata": {
        "id": "55fK3CIiT_yq"
      },
      "source": [
        "start_date = datetime.date(2017, 1, 1)\n",
        "end_date = datetime.date(2021, 8, 1)\n",
        "\n",
        "time_between_dates = end_date - start_date\n",
        "days_between_dates = time_between_dates.days\n",
        "def random_date():\n",
        "  random_number_of_days = random.randrange(days_between_dates)\n",
        "  random_date = start_date + datetime.timedelta(days=random_number_of_days)"
      ],
      "execution_count": 12,
      "outputs": []
    },
    {
      "cell_type": "code",
      "metadata": {
        "id": "5f6SoVOC6tJQ"
      },
      "source": [
        "\n",
        "dummy_data_df = pd.DataFrame(columns=['consult_date','mpc','narrative'])\n",
        "for i in range(0,1000):\n",
        "  mpc = random.choice(mpc_options)\n",
        "  consult_date = random_date()\n",
        "  narrative = lorem.paragraph()\n",
        "  dummy_data_df = dummy_data.append(pd.DataFrame(data=[[consult_date,mpc,narrative]],\n",
        "                                                 columns=['consult_date','mpc','narrative']))\n",
        "\n"
      ],
      "execution_count": 24,
      "outputs": []
    },
    {
      "cell_type": "code",
      "metadata": {
        "colab": {
          "base_uri": "https://localhost:8080/"
        },
        "id": "QfpG6Tpi641-",
        "outputId": "51f30270-21ef-40e8-9407-d8435f238cee"
      },
      "source": [
        "dummy_data_df.shape"
      ],
      "execution_count": 25,
      "outputs": [
        {
          "output_type": "execute_result",
          "data": {
            "text/plain": [
              "(1, 3)"
            ]
          },
          "metadata": {
            "tags": []
          },
          "execution_count": 25
        }
      ]
    },
    {
      "cell_type": "code",
      "metadata": {
        "id": "ytbOFh9gUw-g"
      },
      "source": [
        ""
      ],
      "execution_count": null,
      "outputs": []
    }
  ]
}